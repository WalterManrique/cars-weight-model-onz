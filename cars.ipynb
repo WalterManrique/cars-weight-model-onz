{
 "cells": [
  {
   "cell_type": "code",
   "execution_count": null,
   "id": "bb68d169-39e1-4988-8920-40262b145b51",
   "metadata": {},
   "outputs": [],
   "source": [
    "# Import all necessary modules to communicate with MLz via REST API \n",
    "import json\n",
    "import requests\n",
    "from http import HTTPStatus"
   ]
  },
  {
   "cell_type": "code",
   "execution_count": null,
   "id": "206a9f3e-c217-4ae4-8f83-3152e4fd7096",
   "metadata": {},
   "outputs": [],
   "source": [
    "# Define a function to generate a token to access MLz UI from our python script\n",
    "# Inputs: a valid URL for MLz UI, \n",
    "#         a valid MLz username,\n",
    "#         a valid MLz password\n",
    "# Output: a token to be used for authetication when accessing the model on the respective scoring server\n",
    "#\n",
    "\n",
    "def get_user_token(address, username, password):\n",
    "  url = \"https://\" + address + \"/auth/generateToken\"\n",
    "  payload = {\n",
    "    \"username\": username,\n",
    "    \"password\": password,\n",
    "  }\n",
    "  response = requests.post(url, data=payload, verify=False)\n",
    "  if response.status_code == 200:\n",
    "    return response.json()['token']\n",
    "  else:\n",
    "    raise Exception(response.status_code, response.text)\n",
    "    sys.exit(1)"
   ]
  },
  {
   "cell_type": "code",
   "execution_count": null,
   "id": "7ee0b15f-3a24-4e45-8c87-d7e3e77b8924",
   "metadata": {},
   "outputs": [],
   "source": [
    "# Define a function to access model using scoring server URL and token previously generated\n",
    "# Inputs: a valid URL for model scorign endpoint\n",
    "#         a valid user token - previously generated token\n",
    "#         a valid payload request using JSON\n",
    "# Outputs: scoring server response and elapsed time\n",
    "#\n",
    "\n",
    "def online_score(endpoint, user_token, payload):\n",
    "  url = endpoint\n",
    "  header = {\n",
    "    \"Content-Type\": \"application/json\",\n",
    "    \"accept\": \"application/json\",\n",
    "    \"Authorization\": \"Bearer \" + user_token\n",
    "  }\n",
    "  resp = requests.post(url, json=payload, headers=header, verify=False)\n",
    "  if resp.status_code != HTTPStatus.OK:\n",
    "    raise Exception(resp.status_code, resp.text)\n",
    "    sys.exit(1)\n",
    "  print('Online scored by ' + endpoint)\n",
    "  return resp.text, resp.elapsed.total_seconds()"
   ]
  },
  {
   "cell_type": "code",
   "execution_count": null,
   "id": "8d9b174e-18a4-4180-9cc5-654f307627d9",
   "metadata": {},
   "outputs": [],
   "source": [
    "# MLz IP address\n",
    "# NOTE: This should be the IP address of your MLz UI\n",
    "ip = '129.40.117.161'"
   ]
  },
  {
   "cell_type": "code",
   "execution_count": null,
   "id": "2a723cc0-30c8-4992-9fd0-8a015765e891",
   "metadata": {},
   "outputs": [],
   "source": [
    "# MLz UI port\n",
    "# \n",
    "# NOTE: This should be the port for your MLz UI\n",
    "ui = '9888'"
   ]
  },
  {
   "cell_type": "code",
   "execution_count": null,
   "id": "904fb1a8-47ba-4f09-b96f-429998b042fa",
   "metadata": {},
   "outputs": [],
   "source": [
    "# MLz username \n",
    "# For our SHARE Lab, use aizos0?? where ?? corresponds to the numbers you were assigned\n",
    "# \n",
    "# NOTE: This should be a valid MLz username\n",
    "user = 'aizos0xx'"
   ]
  },
  {
   "cell_type": "code",
   "execution_count": null,
   "id": "6d1adafe-3ff9-47a5-aaf0-99e2ea146576",
   "metadata": {},
   "outputs": [],
   "source": [
    "# MLz passsword\n",
    "# For our SHARE Lan, all users have the same password: z17aionz\n",
    "# \n",
    "# NOTE: This should be the password for a valid MLz username\n",
    "pwd = 'z17aionz'"
   ]
  },
  {
   "cell_type": "code",
   "execution_count": null,
   "id": "a7d1a227-236c-4097-b4ae-f8c446022e20",
   "metadata": {},
   "outputs": [],
   "source": [
    "# The MLz scoring endpoint has the following format:\n",
    "# https://ip:port/iml/v2/scoring/online/<deploymentId>\n",
    "#    ip is the same IP you used for the MLz IP address\n",
    "#    port differs from the MLz UI and it depends on the scoring endpoint generated at the time of model deployment\n",
    "#    deplymentId is generated at the time of model deployment and it is part of the scoring point\n",
    "# \n",
    "# NOTE: Replace the URL inside the double quotes with the complete scoring endpoint saved at the time the model was deployed\n",
    "# \n",
    "score_url = \"https://129.40.117.161:9006/iml/v2/scoring/online/<deploymentId>\""
   ]
  },
  {
   "cell_type": "code",
   "execution_count": null,
   "id": "69d58134-cba3-42b7-8439-2846c9e7b39c",
   "metadata": {},
   "outputs": [],
   "source": [
    "# Let's set up the JSON for querying our cars model\n",
    "#\n",
    "# NOTE: Our model uses the following JSON for the inference request\n",
    "# \n",
    "payload=[{\"ACCELERATION\":7, \"CYLINDERS\":6, \"ENGINE\":2, \"YEAR\":1999, \"ORIGIN\":\"American\", \"NAME\":\"BMW\"}]"
   ]
  },
  {
   "cell_type": "code",
   "execution_count": null,
   "id": "67a2e9ff-7b7e-4fa1-8fb0-b624a20f72c3",
   "metadata": {},
   "outputs": [],
   "source": [
    "# Now, we will generate a user token to access the scorign endpoint\n",
    "# \n",
    "# NOTE: We will use the token to access our scoring endpoint\n",
    "# \n",
    "user_token = get_user_token(ip+':'+ui,user,pwd)"
   ]
  },
  {
   "cell_type": "code",
   "execution_count": null,
   "id": "449f957c-d4bd-43c0-bc6d-0b6bd1f920fc",
   "metadata": {},
   "outputs": [],
   "source": [
    "# We will save the result in an array variable\n",
    "# \n",
    "result = online_score(score_url, user_token, payload)"
   ]
  },
  {
   "cell_type": "code",
   "execution_count": null,
   "id": "72b5e09d-c6db-4daa-b417-950760c1e1d5",
   "metadata": {},
   "outputs": [],
   "source": [
    "# Display the prediction received from the model scoring endpoint\n",
    "# \n",
    "# NOTE: The model reponds with the estimated weight for the car in the request\n",
    "# \n",
    "print(result[0])"
   ]
  },
  {
   "cell_type": "code",
   "execution_count": null,
   "id": "ce9b9bc1-bad9-4540-9e55-cfb221179a56",
   "metadata": {},
   "outputs": [],
   "source": [
    "# Display the elapsed time for the request\n",
    "# \n",
    "# NOTE: Display the elapsed time for the request\n",
    "# \n",
    "print(result[1])"
   ]
  }
 ],
 "metadata": {
  "kernelspec": {
   "display_name": "imlpython3",
   "language": "python",
   "name": "imlpython3"
  },
  "language_info": {
   "codemirror_mode": {
    "name": "ipython",
    "version": 3
   },
   "file_extension": ".py",
   "mimetype": "text/x-python",
   "name": "python",
   "nbconvert_exporter": "python",
   "pygments_lexer": "ipython3",
   "version": "3.11.7"
  }
 },
 "nbformat": 4,
 "nbformat_minor": 5
}
